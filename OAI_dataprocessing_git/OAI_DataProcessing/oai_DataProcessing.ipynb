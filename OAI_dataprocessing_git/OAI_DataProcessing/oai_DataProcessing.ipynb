{
 "cells": [
  {
   "cell_type": "markdown",
   "id": "6f50be36",
   "metadata": {},
   "source": [
    "### Channel Estimation Pre-Processing"
   ]
  },
  {
   "cell_type": "code",
   "execution_count": 30,
   "id": "3ac4865a",
   "metadata": {},
   "outputs": [
    {
     "name": "stdout",
     "output_type": "stream",
     "text": [
      "[-2.4414062e-04-0.00036621j -2.7465820e-04-0.00036621j\n",
      " -2.7465820e-04-0.00036621j -2.7465820e-04-0.00036621j\n",
      "  3.0517578e-05-0.0005188j ]\n",
      "complex64\n"
     ]
    }
   ],
   "source": [
    "import numpy as np\n",
    "\n",
    "# Suppose rx_data is shape (96, 2) → [real, imag]\n",
    "ch_data = np.loadtxt(\"Sample_ChFext_Data.txt\")\n",
    "\n",
    "# Scale and form complex values\n",
    "ch_data_complex = (ch_data[:,0] + 1j*ch_data[:,1]) / (2**15)\n",
    "\n",
    "# Force dtype to complex64\n",
    "ch_data_complex = ch_data_complex.astype(np.complex64)\n",
    "\n",
    "print(ch_data_complex[:5])\n",
    "print(ch_data_complex.dtype)"
   ]
  },
  {
   "cell_type": "markdown",
   "id": "3b69c182",
   "metadata": {},
   "source": [
    "### Recieve Data Pre-Processing"
   ]
  },
  {
   "cell_type": "code",
   "execution_count": 31,
   "id": "030e8c28",
   "metadata": {},
   "outputs": [
    {
     "name": "stdout",
     "output_type": "stream",
     "text": [
      "[ 0.00109863-1.8310547e-04j -0.00094604+1.0986328e-03j\n",
      "  0.00210571-6.1035156e-04j -0.0010376 +4.2724609e-04j\n",
      "  0.00012207+9.1552734e-05j]\n",
      "complex64\n"
     ]
    }
   ],
   "source": [
    "import numpy as np\n",
    "\n",
    "# Suppose rx_data is shape (96, 2) → [real, imag]\n",
    "rx_data = np.loadtxt(\"Sample_RX_Data.txt\")\n",
    "\n",
    "# Scale and form complex values\n",
    "rx_data_complex = (rx_data[:,0] + 1j*rx_data[:,1]) / (2**15)\n",
    "\n",
    "# Force dtype to complex64\n",
    "rx_data_complex = rx_data_complex.astype(np.complex64)\n",
    "\n",
    "print(rx_data_complex[:5])\n",
    "print(rx_data_complex.dtype)\n"
   ]
  },
  {
   "cell_type": "markdown",
   "id": "60b5d3d1",
   "metadata": {},
   "source": [
    "### Receive Data / Channel Estimate"
   ]
  },
  {
   "cell_type": "code",
   "execution_count": 32,
   "id": "77bd9b40",
   "metadata": {},
   "outputs": [
    {
     "name": "stdout",
     "output_type": "stream",
     "text": [
      "[ -1.0384614  +2.307692j    -0.68       -3.0933335j\n",
      "  -1.6933334  +4.48j         0.61333334 -2.3733335j\n",
      "  -0.16206898 +0.2448276j    1.0275862  +0.46896553j\n",
      "  -4.158621   -0.69655174j   0.27241382 +1.6310346j\n",
      "   1.1237113  +1.7216496j    3.134021   +2.948454j\n",
      "   1.9484538  -1.1340207j   -0.2886598  +0.6494846j\n",
      "  -0.6164384  -3.3561647j   -1.8630139  -2.69863j\n",
      "   0.39041102 +2.4589043j   -1.5068494  +1.6849315j\n",
      "  11.04       -1.68j         7.088235   +0.8529413j\n",
      "   0.47058818 +1.8823528j   -2.0588233  -2.735294j\n",
      "  -3.2933335  +0.72j         1.48       -0.02666667j\n",
      "  -2.56       +3.2533333j   -2.0266666  -0.81333333j\n",
      "   1.3898858  +4.6460032j   -0.99021196 +1.3425773j\n",
      "   0.3888889  -2.6111112j   -1.25       -2.4166667j\n",
      "   1.1264249  -0.84041446j   1.6445596  -0.80932647j\n",
      "  -0.8341969  -1.4300518j    0.11999995 +2.1599998j\n",
      "   0.7310012  +1.8262967j    2.765983   -1.5681543j\n",
      "  -0.6381182  +2.0229192j   -1.9927623  +3.7804582j\n",
      "   0.68717057 +3.0966606j   -2.0984182  +0.5360281j\n",
      "   1.3356766  -0.13181019j  -1.6107383  -0.62751675j\n",
      "  -2.4588237  -1.464706j     2.3764708  -4.1058826j\n",
      "   1.564706   -0.65882355j  -1.5588236  -0.2647059j\n",
      "  -1.1538461  -0.3974359j   -0.80769235 -0.9615385j\n",
      "   0.42307693 +0.21794872j   0.5769231  -4.5512824j\n",
      "   1.8545454  -0.9272727j   -0.50000006 -1.j\n",
      "  -1.7123288  -2.2671232j    2.0922098  -1.3879173j\n",
      "   2.2866242  -1.0254776j   -2.453503   +1.0980891j\n",
      "  -1.2484076  +0.955414j    -1.588535   +0.2789809j\n",
      "  -0.54102564 -0.5051282j    1.3153845  +1.3102564j\n",
      "   1.0265722  +1.5358725j   -1.5916741  -0.59875995j\n",
      "  -4.4641275  +1.9734278j   -1.9932433  +0.7094595j\n",
      "  -0.10472973 +0.2533784j    0.51351357 +0.16891892j\n",
      "   0.04470588 +0.01882353j  -1.535294   -3.0411763j\n",
      "  -0.01176471 +0.15294117j   1.0058823  -0.0764706j\n",
      "   1.3856655  +5.7781568j   -0.54266214 -2.112628j\n",
      "   2.194539   +0.15358362j   0.73037547 -2.7918086j\n",
      " -11.076923  -14.384616j     2.5384617  +5.692308j\n",
      "   7.7692313  +2.8461537j    4.0769234 +15.384616j\n",
      "         -inf        +infj          nan        +infj\n",
      "          inf        +infj          inf        -infj\n",
      "   0.9176471  +0.92941177j  -3.9529414  -8.388236j\n",
      "   4.5647063  +7.341177j    -1.6705884  +2.282353j\n",
      "  -0.6116751  +0.06345179j  -0.17766498 -0.51269037j\n",
      "   0.30456853 -0.2639594j    1.6954315  +0.26395935j\n",
      "   2.1752212  -0.5716814j    1.1946902  -3.079646j\n",
      "   1.6277372  -0.27372262j  -0.09854014 -0.14598538j\n",
      "  -0.37003615 +3.2978342j   -0.731047   -0.3628159j\n",
      "  -1.1588448  +0.46931413j  -0.04693142 +1.1841156j ]\n",
      "complex64\n"
     ]
    },
    {
     "name": "stderr",
     "output_type": "stream",
     "text": [
      "/tmp/ipykernel_206614/871335053.py:3: RuntimeWarning: divide by zero encountered in divide\n",
      "  rx_ch_data = rx_data_complex/ch_data_complex\n",
      "/tmp/ipykernel_206614/871335053.py:3: RuntimeWarning: invalid value encountered in divide\n",
      "  rx_ch_data = rx_data_complex/ch_data_complex\n"
     ]
    }
   ],
   "source": [
    "import numpy as np\n",
    "\n",
    "rx_ch_data = rx_data_complex/ch_data_complex\n",
    "print(rx_ch_data)\n",
    "print(rx_ch_data.dtype)\n"
   ]
  },
  {
   "cell_type": "code",
   "execution_count": 35,
   "id": "7aaff3d1",
   "metadata": {},
   "outputs": [
    {
     "name": "stdout",
     "output_type": "stream",
     "text": [
      "Magnitude: [0.00044013 0.00045776 0.00045776 0.00045776 0.0005197 ]\n",
      "Phase (radians): [-2.158799  -2.2142975 -2.2142975 -2.2142975 -1.5120405]\n"
     ]
    }
   ],
   "source": [
    "magnitude = np.abs(ch_data_complex)\n",
    "phase = np.angle(ch_data_complex)\n",
    "\n",
    "print(\"Magnitude:\", magnitude[:5])\n",
    "print(\"Phase (radians):\", phase[:5])"
   ]
  }
 ],
 "metadata": {
  "kernelspec": {
   "display_name": "sionna_env",
   "language": "python",
   "name": "python3"
  },
  "language_info": {
   "codemirror_mode": {
    "name": "ipython",
    "version": 3
   },
   "file_extension": ".py",
   "mimetype": "text/x-python",
   "name": "python",
   "nbconvert_exporter": "python",
   "pygments_lexer": "ipython3",
   "version": "3.10.18"
  }
 },
 "nbformat": 4,
 "nbformat_minor": 5
}
